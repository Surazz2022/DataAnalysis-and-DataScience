{
 "cells": [
  {
   "cell_type": "markdown",
   "id": "228b2baa-9d1d-4999-a30c-89670a5582b0",
   "metadata": {},
   "source": [
    "### The raw dataset represents community-level healthcare utilization across different Census Tracts\n",
    "\n",
    "### Each row corresponds to a specific geopgraphic region and summarizes how  its residents use healthcare services.\n",
    "\n",
    "### Census_tract is unique identifier for each geographic region and of categorical type, remaining all other are numeric type which shows their numbers in particular region.\n",
    "\n",
    "\n"
   ]
  },
  {
   "cell_type": "markdown",
   "id": "e27f7272-0f1a-4ef0-a479-3398306213b6",
   "metadata": {},
   "source": [
    "# Purpose of the Dataset\n",
    "\n",
    "### The dataset helps public health analysts and healthcare organizations:\n",
    "\n",
    "### 1) Identify regions with high healthcare utilization (e.g., frequent ER visits)\n",
    "\n",
    "### 2) Understand population-adjusted healthcare demand\n",
    "\n",
    "### 3) Detect preventable conditions or inefficiencies (e.g., asthma-related ED visits instead of outpatient care)\n",
    "\n",
    "### 4) Support targeted interventions and resource allocation (e.g., setting up community clinics)"
   ]
  },
  {
   "cell_type": "markdown",
   "id": "d4565b8c-b0e0-4ad6-808c-dcfe9bf32e39",
   "metadata": {},
   "source": [
    "# New Feature\n",
    "\n",
    "### To make the data more comparable across census tracts of different population sizes, we engineered a new feature:\n",
    "\n",
    "ED_visit_rate = (ED_visits/ Total_members) * 1000\n",
    "\n",
    "### Meaning \n",
    "### This represents the number of emergency department visits per 1000 members in each census tract."
   ]
  },
  {
   "cell_type": "markdown",
   "id": "cd34e8fd-cf96-477c-ad4a-42a8d231bc4a",
   "metadata": {},
   "source": [
    "# Why it Matters??\n",
    "\n",
    "### Normalization across population - Large and small census tracts can now be directly compared regardless of population size.\n",
    "\n",
    "### Hotspot Identification - High ED_visit_rate regions may indicate poor access to primary care, social inequities or chronic condition burdens.\n",
    "\n",
    "### Performance tracking - The metric can be monitored over time to measure the impact of interventions or policy chnages.\n",
    "\n",
    "### Resource plannig - Helps hospitals and public health departments decide where to allocate additional ED resources or preventive care programs."
   ]
  },
  {
   "cell_type": "markdown",
   "id": "84ba662e-fc47-4594-8647-ddea26cd15be",
   "metadata": {},
   "source": [
    "# In general\n",
    "\n",
    "### A higher ED visit rate (i.e., more emergency visits per 1,000 members) generally indicates that people in that area rely more on the emergency department for healthcare services."
   ]
  },
  {
   "cell_type": "code",
   "execution_count": 2,
   "id": "0e6f808b-8bbc-4e70-bf62-0275b7abafb5",
   "metadata": {},
   "outputs": [],
   "source": [
    "import pandas as pd\n",
    "\n",
    "df=pd.read_csv(\"dataset_asthma-2017.csv\")"
   ]
  },
  {
   "cell_type": "code",
   "execution_count": 3,
   "id": "775898d1-8101-48d8-9f83-a43ca9a759a9",
   "metadata": {},
   "outputs": [
    {
     "data": {
      "text/html": [
       "<div>\n",
       "<style scoped>\n",
       "    .dataframe tbody tr th:only-of-type {\n",
       "        vertical-align: middle;\n",
       "    }\n",
       "\n",
       "    .dataframe tbody tr th {\n",
       "        vertical-align: top;\n",
       "    }\n",
       "\n",
       "    .dataframe thead th {\n",
       "        text-align: right;\n",
       "    }\n",
       "</style>\n",
       "<table border=\"1\" class=\"dataframe\">\n",
       "  <thead>\n",
       "    <tr style=\"text-align: right;\">\n",
       "      <th></th>\n",
       "      <th>Census_tract</th>\n",
       "      <th>ED_visits</th>\n",
       "      <th>ED_hosp</th>\n",
       "      <th>UC_visits</th>\n",
       "      <th>Asthma_use</th>\n",
       "      <th>Total_members</th>\n",
       "    </tr>\n",
       "  </thead>\n",
       "  <tbody>\n",
       "    <tr>\n",
       "      <th>0</th>\n",
       "      <td>42003010300</td>\n",
       "      <td>2</td>\n",
       "      <td>0</td>\n",
       "      <td>0</td>\n",
       "      <td>6</td>\n",
       "      <td>83</td>\n",
       "    </tr>\n",
       "    <tr>\n",
       "      <th>1</th>\n",
       "      <td>42003020100</td>\n",
       "      <td>32</td>\n",
       "      <td>19</td>\n",
       "      <td>3</td>\n",
       "      <td>223</td>\n",
       "      <td>2114</td>\n",
       "    </tr>\n",
       "    <tr>\n",
       "      <th>2</th>\n",
       "      <td>42003020300</td>\n",
       "      <td>0</td>\n",
       "      <td>0</td>\n",
       "      <td>0</td>\n",
       "      <td>2</td>\n",
       "      <td>48</td>\n",
       "    </tr>\n",
       "    <tr>\n",
       "      <th>3</th>\n",
       "      <td>42003030500</td>\n",
       "      <td>11</td>\n",
       "      <td>3</td>\n",
       "      <td>3</td>\n",
       "      <td>61</td>\n",
       "      <td>422</td>\n",
       "    </tr>\n",
       "    <tr>\n",
       "      <th>4</th>\n",
       "      <td>42003040200</td>\n",
       "      <td>2</td>\n",
       "      <td>1</td>\n",
       "      <td>1</td>\n",
       "      <td>18</td>\n",
       "      <td>138</td>\n",
       "    </tr>\n",
       "    <tr>\n",
       "      <th>...</th>\n",
       "      <td>...</td>\n",
       "      <td>...</td>\n",
       "      <td>...</td>\n",
       "      <td>...</td>\n",
       "      <td>...</td>\n",
       "      <td>...</td>\n",
       "    </tr>\n",
       "    <tr>\n",
       "      <th>393</th>\n",
       "      <td>42003980600</td>\n",
       "      <td>0</td>\n",
       "      <td>0</td>\n",
       "      <td>0</td>\n",
       "      <td>0</td>\n",
       "      <td>5</td>\n",
       "    </tr>\n",
       "    <tr>\n",
       "      <th>394</th>\n",
       "      <td>42003980700</td>\n",
       "      <td>0</td>\n",
       "      <td>0</td>\n",
       "      <td>0</td>\n",
       "      <td>1</td>\n",
       "      <td>2</td>\n",
       "    </tr>\n",
       "    <tr>\n",
       "      <th>395</th>\n",
       "      <td>42003981000</td>\n",
       "      <td>0</td>\n",
       "      <td>0</td>\n",
       "      <td>0</td>\n",
       "      <td>0</td>\n",
       "      <td>8</td>\n",
       "    </tr>\n",
       "    <tr>\n",
       "      <th>396</th>\n",
       "      <td>42003981800</td>\n",
       "      <td>0</td>\n",
       "      <td>0</td>\n",
       "      <td>0</td>\n",
       "      <td>0</td>\n",
       "      <td>13</td>\n",
       "    </tr>\n",
       "    <tr>\n",
       "      <th>397</th>\n",
       "      <td>42003982200</td>\n",
       "      <td>0</td>\n",
       "      <td>0</td>\n",
       "      <td>0</td>\n",
       "      <td>0</td>\n",
       "      <td>34</td>\n",
       "    </tr>\n",
       "  </tbody>\n",
       "</table>\n",
       "<p>398 rows × 6 columns</p>\n",
       "</div>"
      ],
      "text/plain": [
       "     Census_tract  ED_visits  ED_hosp  UC_visits  Asthma_use  Total_members\n",
       "0     42003010300          2        0          0           6             83\n",
       "1     42003020100         32       19          3         223           2114\n",
       "2     42003020300          0        0          0           2             48\n",
       "3     42003030500         11        3          3          61            422\n",
       "4     42003040200          2        1          1          18            138\n",
       "..            ...        ...      ...        ...         ...            ...\n",
       "393   42003980600          0        0          0           0              5\n",
       "394   42003980700          0        0          0           1              2\n",
       "395   42003981000          0        0          0           0              8\n",
       "396   42003981800          0        0          0           0             13\n",
       "397   42003982200          0        0          0           0             34\n",
       "\n",
       "[398 rows x 6 columns]"
      ]
     },
     "execution_count": 3,
     "metadata": {},
     "output_type": "execute_result"
    }
   ],
   "source": [
    "df"
   ]
  },
  {
   "cell_type": "code",
   "execution_count": 9,
   "id": "4b828550-2bf8-49a2-ab82-79d05b30404c",
   "metadata": {},
   "outputs": [],
   "source": [
    "import numpy as np\n",
    "\n",
    "#quick clean of whitespace column names\n",
    "\n",
    "df.columns = df.columns.str.strip()\n",
    "\n",
    "#ensure numeric types\n",
    "num_cols =['ED_visits', 'ED_hosp', 'UC_visits', 'Asthma_use', 'Total_members']\n",
    "df[num_cols] = df[num_cols].apply(pd.to_numeric, errors='coerce')\n"
   ]
  },
  {
   "cell_type": "code",
   "execution_count": 10,
   "id": "89762447-a3ce-442d-8f16-80f037c9dc10",
   "metadata": {},
   "outputs": [
    {
     "name": "stdout",
     "output_type": "stream",
     "text": [
      "(398, 6)\n"
     ]
    },
    {
     "data": {
      "text/html": [
       "<div>\n",
       "<style scoped>\n",
       "    .dataframe tbody tr th:only-of-type {\n",
       "        vertical-align: middle;\n",
       "    }\n",
       "\n",
       "    .dataframe tbody tr th {\n",
       "        vertical-align: top;\n",
       "    }\n",
       "\n",
       "    .dataframe thead th {\n",
       "        text-align: right;\n",
       "    }\n",
       "</style>\n",
       "<table border=\"1\" class=\"dataframe\">\n",
       "  <thead>\n",
       "    <tr style=\"text-align: right;\">\n",
       "      <th></th>\n",
       "      <th>Census_tract</th>\n",
       "      <th>ED_visits</th>\n",
       "      <th>ED_hosp</th>\n",
       "      <th>UC_visits</th>\n",
       "      <th>Asthma_use</th>\n",
       "      <th>Total_members</th>\n",
       "    </tr>\n",
       "  </thead>\n",
       "  <tbody>\n",
       "    <tr>\n",
       "      <th>0</th>\n",
       "      <td>42003010300</td>\n",
       "      <td>2</td>\n",
       "      <td>0</td>\n",
       "      <td>0</td>\n",
       "      <td>6</td>\n",
       "      <td>83</td>\n",
       "    </tr>\n",
       "    <tr>\n",
       "      <th>1</th>\n",
       "      <td>42003020100</td>\n",
       "      <td>32</td>\n",
       "      <td>19</td>\n",
       "      <td>3</td>\n",
       "      <td>223</td>\n",
       "      <td>2114</td>\n",
       "    </tr>\n",
       "    <tr>\n",
       "      <th>2</th>\n",
       "      <td>42003020300</td>\n",
       "      <td>0</td>\n",
       "      <td>0</td>\n",
       "      <td>0</td>\n",
       "      <td>2</td>\n",
       "      <td>48</td>\n",
       "    </tr>\n",
       "    <tr>\n",
       "      <th>3</th>\n",
       "      <td>42003030500</td>\n",
       "      <td>11</td>\n",
       "      <td>3</td>\n",
       "      <td>3</td>\n",
       "      <td>61</td>\n",
       "      <td>422</td>\n",
       "    </tr>\n",
       "    <tr>\n",
       "      <th>4</th>\n",
       "      <td>42003040200</td>\n",
       "      <td>2</td>\n",
       "      <td>1</td>\n",
       "      <td>1</td>\n",
       "      <td>18</td>\n",
       "      <td>138</td>\n",
       "    </tr>\n",
       "  </tbody>\n",
       "</table>\n",
       "</div>"
      ],
      "text/plain": [
       "   Census_tract  ED_visits  ED_hosp  UC_visits  Asthma_use  Total_members\n",
       "0   42003010300          2        0          0           6             83\n",
       "1   42003020100         32       19          3         223           2114\n",
       "2   42003020300          0        0          0           2             48\n",
       "3   42003030500         11        3          3          61            422\n",
       "4   42003040200          2        1          1          18            138"
      ]
     },
     "metadata": {},
     "output_type": "display_data"
    },
    {
     "name": "stdout",
     "output_type": "stream",
     "text": [
      "<class 'pandas.core.frame.DataFrame'>\n",
      "RangeIndex: 398 entries, 0 to 397\n",
      "Data columns (total 6 columns):\n",
      " #   Column         Non-Null Count  Dtype\n",
      "---  ------         --------------  -----\n",
      " 0   Census_tract   398 non-null    int64\n",
      " 1   ED_visits      398 non-null    int64\n",
      " 2   ED_hosp        398 non-null    int64\n",
      " 3   UC_visits      398 non-null    int64\n",
      " 4   Asthma_use     398 non-null    int64\n",
      " 5   Total_members  398 non-null    int64\n",
      "dtypes: int64(6)\n",
      "memory usage: 18.8 KB\n",
      "ED_visits        0\n",
      "ED_hosp          0\n",
      "UC_visits        0\n",
      "Asthma_use       0\n",
      "Total_members    0\n",
      "dtype: int64\n"
     ]
    },
    {
     "data": {
      "text/html": [
       "<div>\n",
       "<style scoped>\n",
       "    .dataframe tbody tr th:only-of-type {\n",
       "        vertical-align: middle;\n",
       "    }\n",
       "\n",
       "    .dataframe tbody tr th {\n",
       "        vertical-align: top;\n",
       "    }\n",
       "\n",
       "    .dataframe thead th {\n",
       "        text-align: right;\n",
       "    }\n",
       "</style>\n",
       "<table border=\"1\" class=\"dataframe\">\n",
       "  <thead>\n",
       "    <tr style=\"text-align: right;\">\n",
       "      <th></th>\n",
       "      <th>ED_visits</th>\n",
       "      <th>ED_hosp</th>\n",
       "      <th>UC_visits</th>\n",
       "      <th>Asthma_use</th>\n",
       "      <th>Total_members</th>\n",
       "    </tr>\n",
       "  </thead>\n",
       "  <tbody>\n",
       "    <tr>\n",
       "      <th>count</th>\n",
       "      <td>398.000000</td>\n",
       "      <td>398.000000</td>\n",
       "      <td>398.000000</td>\n",
       "      <td>398.000000</td>\n",
       "      <td>398.000000</td>\n",
       "    </tr>\n",
       "    <tr>\n",
       "      <th>mean</th>\n",
       "      <td>3.241206</td>\n",
       "      <td>1.628141</td>\n",
       "      <td>0.645729</td>\n",
       "      <td>38.211055</td>\n",
       "      <td>466.160804</td>\n",
       "    </tr>\n",
       "    <tr>\n",
       "      <th>std</th>\n",
       "      <td>3.867726</td>\n",
       "      <td>2.520927</td>\n",
       "      <td>0.997538</td>\n",
       "      <td>26.692213</td>\n",
       "      <td>295.714154</td>\n",
       "    </tr>\n",
       "    <tr>\n",
       "      <th>min</th>\n",
       "      <td>0.000000</td>\n",
       "      <td>0.000000</td>\n",
       "      <td>0.000000</td>\n",
       "      <td>0.000000</td>\n",
       "      <td>1.000000</td>\n",
       "    </tr>\n",
       "    <tr>\n",
       "      <th>25%</th>\n",
       "      <td>1.000000</td>\n",
       "      <td>0.000000</td>\n",
       "      <td>0.000000</td>\n",
       "      <td>20.000000</td>\n",
       "      <td>249.500000</td>\n",
       "    </tr>\n",
       "    <tr>\n",
       "      <th>50%</th>\n",
       "      <td>2.000000</td>\n",
       "      <td>1.000000</td>\n",
       "      <td>0.000000</td>\n",
       "      <td>35.000000</td>\n",
       "      <td>412.000000</td>\n",
       "    </tr>\n",
       "    <tr>\n",
       "      <th>75%</th>\n",
       "      <td>4.000000</td>\n",
       "      <td>2.000000</td>\n",
       "      <td>1.000000</td>\n",
       "      <td>53.000000</td>\n",
       "      <td>646.750000</td>\n",
       "    </tr>\n",
       "    <tr>\n",
       "      <th>max</th>\n",
       "      <td>32.000000</td>\n",
       "      <td>19.000000</td>\n",
       "      <td>6.000000</td>\n",
       "      <td>240.000000</td>\n",
       "      <td>2398.000000</td>\n",
       "    </tr>\n",
       "  </tbody>\n",
       "</table>\n",
       "</div>"
      ],
      "text/plain": [
       "        ED_visits     ED_hosp   UC_visits  Asthma_use  Total_members\n",
       "count  398.000000  398.000000  398.000000  398.000000     398.000000\n",
       "mean     3.241206    1.628141    0.645729   38.211055     466.160804\n",
       "std      3.867726    2.520927    0.997538   26.692213     295.714154\n",
       "min      0.000000    0.000000    0.000000    0.000000       1.000000\n",
       "25%      1.000000    0.000000    0.000000   20.000000     249.500000\n",
       "50%      2.000000    1.000000    0.000000   35.000000     412.000000\n",
       "75%      4.000000    2.000000    1.000000   53.000000     646.750000\n",
       "max     32.000000   19.000000    6.000000  240.000000    2398.000000"
      ]
     },
     "metadata": {},
     "output_type": "display_data"
    },
    {
     "name": "stdout",
     "output_type": "stream",
     "text": [
      "Total_members == 0 count: 0\n"
     ]
    }
   ],
   "source": [
    "#Data quality checks(basics)\n",
    "\n",
    "#overview\n",
    "print(df.shape)\n",
    "display(df.head())\n",
    "df.info()\n",
    "\n",
    "#missing counts\n",
    "print(df[num_cols].isnull().sum())\n",
    "\n",
    "#basic descriptive stats\n",
    "\n",
    "display(df[num_cols].describe())\n",
    "\n",
    "#check zeros in Total_members (dangerous as denominator)\n",
    "print(\"Total_members == 0 count:\", (df['Total_members'] == 0).sum())"
   ]
  },
  {
   "cell_type": "code",
   "execution_count": 12,
   "id": "76033515-fa25-4ba2-a563-b3f6a077cc43",
   "metadata": {},
   "outputs": [],
   "source": [
    "#drop rows where Total_members is missing or <=0 because rates would be invalid\n",
    "df = df[(df['Total_members'].notna()) & (df['Total_members'] > 0)] .copy()\n",
    "\n",
    "#For other numeric NaNs, if small percent:\n",
    "df[num_cols].isna().sum() #inspect\n",
    "\n",
    "# fill remaining visit NaNs with 0 if appropriate:\n",
    "df[['ED_visits', 'ED_hosp', 'UC_visits', 'Asthma_use']] = df[['ED_visits','ED_hosp','UC_visits','Asthma_use']].fillna(0)"
   ]
  },
  {
   "cell_type": "code",
   "execution_count": 13,
   "id": "8802e603-b78d-4153-96e1-37b5de534db5",
   "metadata": {},
   "outputs": [],
   "source": [
    "#rates per 1000 members\n",
    "df['ED_visit_rate'] =df['ED_visits']/ df['Total_members'] * 1000\n",
    "df['ED_hosp_rate'] =df['ED_hosp'] / df['Total_members'] * 1000\n",
    "df['UC_visit_rate'] =df['UC_visits'] / df['Total_members'] * 1000\n",
    "df['Asthma_use_rate'] = df['Asthma_use'] / df['Total_members'] * 1000\n",
    "\n",
    "#ratios to understand mix \n",
    "eps = 1e-6\n",
    "df['ED_to_UC_ratio'] =df['ED_visits'] / (df['UC_visits'] + eps)\n",
    "df['ED_hosp_to_ED_ratio'] =df['ED_hosp'] / (df['ED_visits'] + eps)\n",
    "df['Asthma_to_ED_ratio'] = df['Asthma_use'] / (df['ED_visits'] +eps)\n",
    "\n",
    "#combined engagement metric(example)\n",
    "df['Total_encounters'] =df['ED_visits'] + df ['UC_visits'] +df['Asthma_use']\n",
    "df['Encounters_per_1000'] =df['Total_encounters'] / df['Total_members'] * 1000"
   ]
  },
  {
   "cell_type": "code",
   "execution_count": 14,
   "id": "b7a9a63d-3127-43e5-b374-97eeec21b170",
   "metadata": {},
   "outputs": [
    {
     "name": "stderr",
     "output_type": "stream",
     "text": [
      "C:\\Users\\LENOVO\\AppData\\Local\\Temp\\ipykernel_4556\\1876278443.py:18: MatplotlibDeprecationWarning: The 'labels' parameter of boxplot() has been renamed 'tick_labels' since Matplotlib 3.9; support for the old name will be dropped in 3.11.\n",
      "  plt.boxplot([df['ED_visit_rate'].dropna(), df['UC_visit_rate'].dropna(), df['Asthma_use_rate'].dropna()],\n"
     ]
    },
    {
     "data": {
      "image/png": "[encoded data removed]",
      "text/plain": [
       "<Figure size 640x480 with 1 Axes>"
      ]
     },
     "metadata": {},
     "output_type": "display_data"
    },
    {
     "data": {
      "image/png": "[encoded data removed]",
      "text/plain": [
       "<Figure size 640x480 with 1 Axes>"
      ]
     },
     "metadata": {},
     "output_type": "display_data"
    },
    {
     "data": {
      "image/png": "[encoded data removed]",
      "text/plain": [
       "<Figure size 640x480 with 1 Axes>"
      ]
     },
     "metadata": {},
     "output_type": "display_data"
    }
   ],
   "source": [
    "import matplotlib.pyplot as plt\n",
    "\n",
    "# distribution of ED_visit_rate\n",
    "plt.figure()\n",
    "df['ED_visit_rate'].hist(bins=40)\n",
    "plt.title('ED_visit_rate distribution')\n",
    "plt.xlabel('ED visits per 1000'); plt.ylabel('count')\n",
    "\n",
    "# scatter ED_visit_rate vs Asthma_use_rate\n",
    "plt.figure()\n",
    "plt.scatter(df['Asthma_use_rate'], df['ED_visit_rate'])\n",
    "plt.xlabel('Asthma_use_rate per 1000'); plt.ylabel('ED_visit_rate per 1000')\n",
    "plt.title('Asthma vs ED use (per 1000)')\n",
    "plt.grid(True)\n",
    "\n",
    "# boxplot for rates to identify outliers\n",
    "plt.figure()\n",
    "plt.boxplot([df['ED_visit_rate'].dropna(), df['UC_visit_rate'].dropna(), df['Asthma_use_rate'].dropna()],\n",
    "            labels=['ED','UC','Asthma'])\n",
    "plt.title('Rate boxplots')\n",
    "plt.show()\n"
   ]
  },
  {
   "cell_type": "code",
   "execution_count": 15,
   "id": "696861fa-2faa-412c-81d7-3317669e8185",
   "metadata": {},
   "outputs": [],
   "source": [
    "# log transform (add 1 to avoid log(0))\n",
    "df['log_ED_visit_rate'] = np.log1p(df['ED_visit_rate'])\n",
    "df['log_Asthma_use_rate'] = np.log1p(df['Asthma_use_rate'])\n",
    "\n",
    "# winsorize extreme rates (example: cap at 99th percentile)\n",
    "for col in ['ED_visit_rate','UC_visit_rate','Asthma_use_rate','Encounters_per_1000']:\n",
    "    upper = df[col].quantile(0.99)\n",
    "    df[col+'_win'] = np.minimum(df[col], upper)\n"
   ]
  },
  {
   "cell_type": "code",
   "execution_count": 16,
   "id": "a5b7a888-7427-47bb-a9ce-fb5806deee54",
   "metadata": {},
   "outputs": [],
   "source": [
    "# normalize components (min-max) before combining\n",
    "from sklearn.preprocessing import MinMaxScaler\n",
    "scaler = MinMaxScaler()\n",
    "cols_for_index = ['ED_visit_rate', 'ED_hosp_to_ED_ratio', 'Asthma_use_rate', 'Encounters_per_1000']\n",
    "df[cols_for_index] = df[cols_for_index].fillna(0)\n",
    "df[['c1','c2','c3','c4']] = scaler.fit_transform(df[cols_for_index])\n",
    "\n",
    "# weighted sum\n",
    "df['High_risk_index'] = 0.4*df['c1'] + 0.3*df['c2'] + 0.2*df['c3'] + 0.1*df['c4']\n",
    "\n",
    "# define tiers\n",
    "df['risk_tier'] = pd.qcut(df['High_risk_index'], q=4, labels=['Low','Medium','High','Very High'])\n"
   ]
  },
  {
   "cell_type": "code",
   "execution_count": 17,
   "id": "8449e0d1-f272-423f-a253-cea4537f65ce",
   "metadata": {},
   "outputs": [
    {
     "name": "stderr",
     "output_type": "stream",
     "text": [
      "C:\\ProgramData\\anaconda3\\Lib\\site-packages\\sklearn\\cluster\\_kmeans.py:1429: UserWarning: KMeans is known to have a memory leak on Windows with MKL, when there are less chunks than available threads. You can avoid it by setting the environment variable OMP_NUM_THREADS=2.\n",
      "  warnings.warn(\n"
     ]
    },
    {
     "data": {
      "text/html": [
       "<div>\n",
       "<style scoped>\n",
       "    .dataframe tbody tr th:only-of-type {\n",
       "        vertical-align: middle;\n",
       "    }\n",
       "\n",
       "    .dataframe tbody tr th {\n",
       "        vertical-align: top;\n",
       "    }\n",
       "\n",
       "    .dataframe thead th {\n",
       "        text-align: right;\n",
       "    }\n",
       "</style>\n",
       "<table border=\"1\" class=\"dataframe\">\n",
       "  <thead>\n",
       "    <tr style=\"text-align: right;\">\n",
       "      <th></th>\n",
       "      <th>ED_visit_rate</th>\n",
       "      <th>UC_visit_rate</th>\n",
       "      <th>ED_hosp_to_ED_ratio</th>\n",
       "      <th>Asthma_use_rate</th>\n",
       "    </tr>\n",
       "    <tr>\n",
       "      <th>cluster</th>\n",
       "      <th></th>\n",
       "      <th></th>\n",
       "      <th></th>\n",
       "      <th></th>\n",
       "    </tr>\n",
       "  </thead>\n",
       "  <tbody>\n",
       "    <tr>\n",
       "      <th>0</th>\n",
       "      <td>3.225840</td>\n",
       "      <td>0.000000</td>\n",
       "      <td>0.0</td>\n",
       "      <td>73.376784</td>\n",
       "    </tr>\n",
       "    <tr>\n",
       "      <th>1</th>\n",
       "      <td>15.564202</td>\n",
       "      <td>2.751032</td>\n",
       "      <td>0.5</td>\n",
       "      <td>101.796407</td>\n",
       "    </tr>\n",
       "    <tr>\n",
       "      <th>2</th>\n",
       "      <td>0.000000</td>\n",
       "      <td>0.000000</td>\n",
       "      <td>1000000.0</td>\n",
       "      <td>80.563948</td>\n",
       "    </tr>\n",
       "    <tr>\n",
       "      <th>3</th>\n",
       "      <td>0.000000</td>\n",
       "      <td>0.000000</td>\n",
       "      <td>0.0</td>\n",
       "      <td>500.000000</td>\n",
       "    </tr>\n",
       "  </tbody>\n",
       "</table>\n",
       "</div>"
      ],
      "text/plain": [
       "         ED_visit_rate  UC_visit_rate  ED_hosp_to_ED_ratio  Asthma_use_rate\n",
       "cluster                                                                    \n",
       "0             3.225840       0.000000                  0.0        73.376784\n",
       "1            15.564202       2.751032                  0.5       101.796407\n",
       "2             0.000000       0.000000            1000000.0        80.563948\n",
       "3             0.000000       0.000000                  0.0       500.000000"
      ]
     },
     "execution_count": 17,
     "metadata": {},
     "output_type": "execute_result"
    }
   ],
   "source": [
    "from sklearn.cluster import KMeans\n",
    "from sklearn.preprocessing import StandardScaler\n",
    "\n",
    "features = ['ED_visit_rate','UC_visit_rate','ED_hosp_to_ED_ratio','Asthma_use_rate']\n",
    "X = df[features].fillna(0).values\n",
    "X = StandardScaler().fit_transform(X)\n",
    "\n",
    "kmeans = KMeans(n_clusters=4, random_state=42).fit(X)\n",
    "df['cluster'] = kmeans.labels_\n",
    "# profile clusters\n",
    "df.groupby('cluster')[features].median()\n"
   ]
  },
  {
   "cell_type": "code",
   "execution_count": 18,
   "id": "971e65d8-1537-4bdb-bff3-ad30126f0716",
   "metadata": {},
   "outputs": [],
   "source": [
    "from sklearn.ensemble import IsolationForest\n",
    "iso = IsolationForest(contamination=0.02, random_state=42)\n",
    "df['anomaly_score'] = iso.fit_predict(X)   # -1 anomaly, 1 normal\n",
    "anomalies = df[df['anomaly_score']==-1]\n"
   ]
  },
  {
   "cell_type": "code",
   "execution_count": 19,
   "id": "44f0c134-6935-4d5b-94c7-6e46daf51d32",
   "metadata": {},
   "outputs": [
    {
     "name": "stdout",
     "output_type": "stream",
     "text": [
      "              precision    recall  f1-score   support\n",
      "\n",
      "           0       0.96      1.00      0.98        55\n",
      "           1       1.00      0.92      0.96        25\n",
      "\n",
      "    accuracy                           0.97        80\n",
      "   macro avg       0.98      0.96      0.97        80\n",
      "weighted avg       0.98      0.97      0.97        80\n",
      "\n"
     ]
    }
   ],
   "source": [
    "from sklearn.model_selection import train_test_split\n",
    "from sklearn.ensemble import RandomForestClassifier\n",
    "from sklearn.metrics import classification_report\n",
    "\n",
    "X = df[features].fillna(0)\n",
    "y = (df['High_risk_index'] > df['High_risk_index'].quantile(0.75)).astype(int)  # binary target\n",
    "\n",
    "X_train, X_test, y_train, y_test = train_test_split(X, y, random_state=42, test_size=0.2)\n",
    "rf = RandomForestClassifier(n_estimators=200, random_state=42)\n",
    "rf.fit(X_train, y_train)\n",
    "y_pred = rf.predict(X_test)\n",
    "print(classification_report(y_test, y_pred))\n"
   ]
  },
  {
   "cell_type": "code",
   "execution_count": 20,
   "id": "2034a8b6-cd58-4ead-a804-ac2a9f87f214",
   "metadata": {},
   "outputs": [
    {
     "name": "stdout",
     "output_type": "stream",
     "text": [
      "ED_visit_rate 0.6787267141583128\n",
      "Asthma_use_rate 0.19371606980652548\n",
      "ED_hosp_to_ED_ratio 0.10935923077859763\n",
      "UC_visit_rate 0.018197985256563985\n"
     ]
    }
   ],
   "source": [
    "importances = rf.feature_importances_\n",
    "for f, imp in sorted(zip(features, importances), key=lambda x: -x[1]):\n",
    "    print(f, imp)\n"
   ]
  },
  {
   "cell_type": "code",
   "execution_count": 21,
   "id": "66cea258-5910-41d9-9e54-8f9d03329999",
   "metadata": {},
   "outputs": [],
   "source": [
    "summary = df[['Census_tract','ED_visit_rate','ED_hosp_rate','UC_visit_rate','Asthma_use_rate','High_risk_index','risk_tier','cluster']]\n",
    "summary.to_csv('tract_summary.csv', index=False)\n"
   ]
  },
  {
   "cell_type": "code",
   "execution_count": 23,
   "id": "da86fc9f-213a-43f0-a9a2-8ed13bc9dab8",
   "metadata": {
    "scrolled": true
   },
   "outputs": [
    {
     "name": "stdout",
     "output_type": "stream",
     "text": [
      "✅ Data loaded successfully!\n",
      "\n",
      "Shape: (398, 6)\n",
      "\n",
      "--- Columns ---\n",
      "['Census_tract', 'ED_visits', 'ED_hosp', 'UC_visits', 'Asthma_use', 'Total_members']\n",
      "\n",
      "--- Preview ---\n",
      "   Census_tract  ED_visits  ED_hosp  UC_visits  Asthma_use  Total_members\n",
      "0   42003010300          2        0          0           6             83\n",
      "1   42003020100         32       19          3         223           2114\n",
      "2   42003020300          0        0          0           2             48\n",
      "3   42003030500         11        3          3          61            422\n",
      "4   42003040200          2        1          1          18            138\n",
      "\n",
      "--- Missing Values ---\n",
      "ED_visits        0\n",
      "ED_hosp          0\n",
      "UC_visits        0\n",
      "Asthma_use       0\n",
      "Total_members    0\n",
      "dtype: int64\n",
      "\n",
      "--- Descriptive Stats ---\n",
      "        ED_visits     ED_hosp   UC_visits  Asthma_use  Total_members\n",
      "count  398.000000  398.000000  398.000000  398.000000     398.000000\n",
      "mean     3.241206    1.628141    0.645729   38.211055     466.160804\n",
      "std      3.867726    2.520927    0.997538   26.692213     295.714154\n",
      "min      0.000000    0.000000    0.000000    0.000000       1.000000\n",
      "25%      1.000000    0.000000    0.000000   20.000000     249.500000\n",
      "50%      2.000000    1.000000    0.000000   35.000000     412.000000\n",
      "75%      4.000000    2.000000    1.000000   53.000000     646.750000\n",
      "max     32.000000   19.000000    6.000000  240.000000    2398.000000\n",
      "\n",
      "--- Zero Counts ---\n",
      "ED_visits         73\n",
      "ED_hosp          174\n",
      "UC_visits        239\n",
      "Asthma_use         7\n",
      "Total_members      0\n",
      "dtype: int64\n",
      "\n",
      "--- ✅ New Feature: ED_visit_rate (per 1,000 members) ---\n",
      "   Census_tract  ED_visits  Total_members  ED_visit_rate\n",
      "0   42003010300          2             83      24.096386\n",
      "1   42003020100         32           2114      15.137181\n",
      "2   42003020300          0             48       0.000000\n",
      "3   42003030500         11            422      26.066351\n",
      "4   42003040200          2            138      14.492754\n",
      "5   42003040400          0             17       0.000000\n",
      "6   42003040500          0             44       0.000000\n",
      "7   42003040600          0             15       0.000000\n",
      "8   42003040900          1            135       7.407407\n",
      "9   42003050100         13            359      36.211699\n"
     ]
    },
    {
     "data": {
      "image/png": "[encoded data removed]",
      "text/plain": [
       "<Figure size 700x400 with 1 Axes>"
      ]
     },
     "metadata": {},
     "output_type": "display_data"
    },
    {
     "name": "stdout",
     "output_type": "stream",
     "text": [
      "\n",
      "✅ Pipeline complete! feature created and printed successfully\n"
     ]
    }
   ],
   "source": [
    "\n",
    "# Import Libraries\n",
    "import pandas as pd\n",
    "import numpy as np\n",
    "import matplotlib.pyplot as plt\n",
    "\n",
    "# Load the Dataset\n",
    "file_path = \"dataset_asthma-2017.csv\"\n",
    "df = pd.read_csv(file_path)\n",
    "\n",
    "# Initial Inspection\n",
    "print(\"✅ Data loaded successfully!\\n\")\n",
    "print(\"Shape:\", df.shape)\n",
    "print(\"\\n--- Columns ---\")\n",
    "print(df.columns.tolist())\n",
    "print(\"\\n--- Preview ---\")\n",
    "print(df.head())\n",
    "\n",
    "\n",
    "# Basic Cleaning\n",
    "#Remove whitespace from column names (in case of hidden spaces)\n",
    "df.columns = df.columns.str.strip()\n",
    "\n",
    "# Define expected numeric columns\n",
    "num_cols = ['ED_visits', 'ED_hosp', 'UC_visits', 'Asthma_use', 'Total_members']\n",
    "\n",
    "# Convert to numeric safely (if any non-numeric values exist)\n",
    "df[num_cols] = df[num_cols].apply(pd.to_numeric, errors='coerce')\n",
    "\n",
    "\n",
    "#Check Missing & Invalid Values\n",
    "\n",
    "print(\"\\n--- Missing Values ---\")\n",
    "print(df[num_cols].isnull().sum())\n",
    "\n",
    "# Drop rows where Total_members is missing or zero (invalid denominator)\n",
    "invalid_count = ((df['Total_members'].isna()) | (df['Total_members'] <= 0)).sum()\n",
    "if invalid_count > 0:\n",
    "    print(f\"\\n⚠️ Found {invalid_count} rows with invalid Total_members (NaN or 0). Dropping them.\")\n",
    "    df = df[(df['Total_members'].notna()) & (df['Total_members'] > 0)]\n",
    "\n",
    "# Fill remaining missing visit counts with 0 (optional)\n",
    "df[['ED_visits','ED_hosp','UC_visits','Asthma_use']] = df[['ED_visits','ED_hosp','UC_visits','Asthma_use']].fillna(0)\n",
    "\n",
    "\n",
    "#Sanity Checks & Basic Stats\n",
    "print(\"\\n--- Descriptive Stats ---\")\n",
    "print(df[num_cols].describe())\n",
    "\n",
    "# Check zeros in main count columns\n",
    "print(\"\\n--- Zero Counts ---\")\n",
    "print((df[num_cols] == 0).sum())\n",
    "\n",
    "\n",
    "# Feature Engineering\n",
    "# feature: ED visit rate per 1,000 members\n",
    "df['ED_visit_rate'] = (df['ED_visits'] / df['Total_members']) * 1000\n",
    "\n",
    "print(\"\\n--- ✅ New Feature: ED_visit_rate (per 1,000 members) ---\")\n",
    "print(df[['Census_tract', 'ED_visits', 'Total_members', 'ED_visit_rate']].head(10))\n",
    "\n",
    "# Basic Visualization of the New Feature\n",
    "plt.figure(figsize=(7,4))\n",
    "plt.hist(df['ED_visit_rate'], bins=40, color='skyblue', edgecolor='black')\n",
    "plt.title('Distribution of ED Visit Rate (per 1000 Members)')\n",
    "plt.xlabel('ED visits per 1000 members')\n",
    "plt.ylabel('Count of census tracts')\n",
    "plt.grid(alpha=0.3)\n",
    "plt.show()\n",
    "\n",
    "\n",
    "# Save the Cleaned Data \n",
    "#output_path = \"cleaned_healthcare_data_with_ED_rate.csv\"\n",
    "#df.to_csv(output_path, index=False)\n",
    "\n",
    "print(f\"\\n✅ Pipeline complete! feature created and printed successfully\")\n",
    "\n"
   ]
  },
  {
   "cell_type": "code",
   "execution_count": 6,
   "id": "1bf1eb99-e5e1-4b50-8986-cc5d7123a5e8",
   "metadata": {
    "scrolled": true
   },
   "outputs": [
    {
     "name": "stdout",
     "output_type": "stream",
     "text": [
      "<class 'pandas.core.frame.DataFrame'>\n",
      "RangeIndex: 398 entries, 0 to 397\n",
      "Data columns (total 6 columns):\n",
      " #   Column         Non-Null Count  Dtype\n",
      "---  ------         --------------  -----\n",
      " 0   Census_tract   398 non-null    int64\n",
      " 1   ED_visits      398 non-null    int64\n",
      " 2   ED_hosp        398 non-null    int64\n",
      " 3   UC_visits      398 non-null    int64\n",
      " 4   Asthma_use     398 non-null    int64\n",
      " 5   Total_members  398 non-null    int64\n",
      "dtypes: int64(6)\n",
      "memory usage: 18.8 KB\n"
     ]
    }
   ],
   "source": [
    "df.info()"
   ]
  },
  {
   "cell_type": "code",
   "execution_count": null,
   "id": "ebb3012f-e835-48fc-942f-ada0cf048a3d",
   "metadata": {},
   "outputs": [],
   "source": []
  },
  {
   "cell_type": "code",
   "execution_count": 5,
   "id": "eea913cc-f329-4b36-94d6-ae73c1e86185",
   "metadata": {},
   "outputs": [
    {
     "data": {
      "text/plain": [
       "Census_tract     0\n",
       "ED_visits        0\n",
       "ED_hosp          0\n",
       "UC_visits        0\n",
       "Asthma_use       0\n",
       "Total_members    0\n",
       "dtype: int64"
      ]
     },
     "execution_count": 5,
     "metadata": {},
     "output_type": "execute_result"
    }
   ],
   "source": [
    "#Counting the number of null values in each column\n",
    "df.isnull().sum()"
   ]
  },
  {
   "cell_type": "code",
   "execution_count": null,
   "id": "15a6a585-ad2c-470b-b092-10c668ef64ee",
   "metadata": {},
   "outputs": [],
   "source": []
  }
 ],
 "metadata": {
  "kernelspec": {
   "display_name": "Python 3 (ipykernel)",
   "language": "python",
   "name": "python3"
  },
  "language_info": {
   "codemirror_mode": {
    "name": "ipython",
    "version": 3
   },
   "file_extension": ".py",
   "mimetype": "text/x-python",
   "name": "python",
   "nbconvert_exporter": "python",
   "pygments_lexer": "ipython3",
   "version": "3.12.7"
  }
 },
 "nbformat": 4,
 "nbformat_minor": 5
}
